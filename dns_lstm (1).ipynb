{
  "cells": [
    {
      "cell_type": "code",
      "execution_count": null,
      "id": "f3e06191",
      "metadata": {
        "id": "f3e06191",
        "outputId": "c6a00c0c-47b0-40fb-8fa4-4520711a93d8"
      },
      "outputs": [
        {
          "name": "stdout",
          "output_type": "stream",
          "text": [
            "Requirement already satisfied: wandb in /Users/student/anaconda3/lib/python3.10/site-packages (0.16.1)\n",
            "Requirement already satisfied: PyYAML in /Users/student/anaconda3/lib/python3.10/site-packages (from wandb) (6.0)\n",
            "Requirement already satisfied: sentry-sdk>=1.0.0 in /Users/student/anaconda3/lib/python3.10/site-packages (from wandb) (1.39.0)\n",
            "Requirement already satisfied: setproctitle in /Users/student/anaconda3/lib/python3.10/site-packages (from wandb) (1.3.3)\n",
            "Requirement already satisfied: Click!=8.0.0,>=7.1 in /Users/student/anaconda3/lib/python3.10/site-packages (from wandb) (8.1.6)\n",
            "Requirement already satisfied: psutil>=5.0.0 in /Users/student/anaconda3/lib/python3.10/site-packages (from wandb) (5.9.0)\n",
            "Requirement already satisfied: docker-pycreds>=0.4.0 in /Users/student/anaconda3/lib/python3.10/site-packages (from wandb) (0.4.0)\n",
            "Requirement already satisfied: requests<3,>=2.0.0 in /Users/student/anaconda3/lib/python3.10/site-packages (from wandb) (2.28.1)\n",
            "Requirement already satisfied: GitPython!=3.1.29,>=1.0.0 in /Users/student/anaconda3/lib/python3.10/site-packages (from wandb) (3.1.31)\n",
            "Requirement already satisfied: appdirs>=1.4.3 in /Users/student/anaconda3/lib/python3.10/site-packages (from wandb) (1.4.4)\n",
            "Requirement already satisfied: protobuf!=4.21.0,<5,>=3.19.0 in /Users/student/anaconda3/lib/python3.10/site-packages (from wandb) (4.23.4)\n",
            "Requirement already satisfied: setuptools in /Users/student/anaconda3/lib/python3.10/site-packages (from wandb) (65.6.3)\n",
            "Requirement already satisfied: six>=1.4.0 in /Users/student/anaconda3/lib/python3.10/site-packages (from docker-pycreds>=0.4.0->wandb) (1.16.0)\n",
            "Requirement already satisfied: gitdb<5,>=4.0.1 in /Users/student/anaconda3/lib/python3.10/site-packages (from GitPython!=3.1.29,>=1.0.0->wandb) (4.0.10)\n",
            "Requirement already satisfied: urllib3<1.27,>=1.21.1 in /Users/student/anaconda3/lib/python3.10/site-packages (from requests<3,>=2.0.0->wandb) (1.26.14)\n",
            "Requirement already satisfied: idna<4,>=2.5 in /Users/student/anaconda3/lib/python3.10/site-packages (from requests<3,>=2.0.0->wandb) (3.4)\n",
            "Requirement already satisfied: certifi>=2017.4.17 in /Users/student/anaconda3/lib/python3.10/site-packages (from requests<3,>=2.0.0->wandb) (2022.12.7)\n",
            "Requirement already satisfied: charset-normalizer<3,>=2 in /Users/student/anaconda3/lib/python3.10/site-packages (from requests<3,>=2.0.0->wandb) (2.0.4)\n",
            "Requirement already satisfied: smmap<6,>=3.0.1 in /Users/student/anaconda3/lib/python3.10/site-packages (from gitdb<5,>=4.0.1->GitPython!=3.1.29,>=1.0.0->wandb) (5.0.0)\n"
          ]
        }
      ],
      "source": [
        "!pip install wandb"
      ]
    },
    {
      "cell_type": "code",
      "execution_count": null,
      "id": "c218a1a8",
      "metadata": {
        "id": "c218a1a8",
        "outputId": "940473fa-9ace-4093-cdc7-488a9d8431d0"
      },
      "outputs": [
        {
          "name": "stdout",
          "output_type": "stream",
          "text": [
            "\u001b[34m\u001b[1mwandb\u001b[0m: Appending key for api.wandb.ai to your netrc file: /Users/student/.netrc\r\n"
          ]
        }
      ],
      "source": [
        "!wandb login 4af466ac2d3f11cc39abab948459648597f363cf"
      ]
    },
    {
      "cell_type": "code",
      "execution_count": null,
      "id": "2869a447",
      "metadata": {
        "id": "2869a447",
        "outputId": "9a04b16c-b8ac-4b3a-e709-79c97393c5bf"
      },
      "outputs": [
        {
          "name": "stderr",
          "output_type": "stream",
          "text": [
            "\u001b[34m\u001b[1mwandb\u001b[0m: Currently logged in as: \u001b[33mshirlynjenita\u001b[0m. Use \u001b[1m`wandb login --relogin`\u001b[0m to force relogin\n"
          ]
        },
        {
          "data": {
            "text/html": [
              "Tracking run with wandb version 0.16.1"
            ],
            "text/plain": [
              "<IPython.core.display.HTML object>"
            ]
          },
          "metadata": {},
          "output_type": "display_data"
        },
        {
          "data": {
            "text/html": [
              "Run data is saved locally in <code>/Users/student/Documents/wandb/run-20231214_143002-bqn3z2ie</code>"
            ],
            "text/plain": [
              "<IPython.core.display.HTML object>"
            ]
          },
          "metadata": {},
          "output_type": "display_data"
        },
        {
          "data": {
            "text/html": [
              "Syncing run <strong><a href='https://wandb.ai/shirlynjenita/DNS_lstm/runs/bqn3z2ie' target=\"_blank\">fanciful-sponge-3</a></strong> to <a href='https://wandb.ai/shirlynjenita/DNS_lstm' target=\"_blank\">Weights & Biases</a> (<a href='https://wandb.me/run' target=\"_blank\">docs</a>)<br/>"
            ],
            "text/plain": [
              "<IPython.core.display.HTML object>"
            ]
          },
          "metadata": {},
          "output_type": "display_data"
        },
        {
          "data": {
            "text/html": [
              " View project at <a href='https://wandb.ai/shirlynjenita/DNS_lstm' target=\"_blank\">https://wandb.ai/shirlynjenita/DNS_lstm</a>"
            ],
            "text/plain": [
              "<IPython.core.display.HTML object>"
            ]
          },
          "metadata": {},
          "output_type": "display_data"
        },
        {
          "data": {
            "text/html": [
              " View run at <a href='https://wandb.ai/shirlynjenita/DNS_lstm/runs/bqn3z2ie' target=\"_blank\">https://wandb.ai/shirlynjenita/DNS_lstm/runs/bqn3z2ie</a>"
            ],
            "text/plain": [
              "<IPython.core.display.HTML object>"
            ]
          },
          "metadata": {},
          "output_type": "display_data"
        },
        {
          "data": {
            "text/html": [
              "<button onClick=\"this.nextSibling.style.display='block';this.style.display='none';\">Display W&B run</button><iframe src='https://wandb.ai/shirlynjenita/DNS_lstm/runs/bqn3z2ie?jupyter=true' style='border:none;width:100%;height:420px;display:none;'></iframe>"
            ],
            "text/plain": [
              "<wandb.sdk.wandb_run.Run at 0x1754f7820>"
            ]
          },
          "execution_count": 3,
          "metadata": {},
          "output_type": "execute_result"
        }
      ],
      "source": [
        "import wandb\n",
        "from wandb.keras import WandbCallback\n",
        "from keras.models import Sequential\n",
        "from keras.layers import Embedding, LSTM, Dense\n",
        "from sklearn.model_selection import train_test_split\n",
        "\n",
        "# Initialize wandb\n",
        "wandb.init(project='DNS_lstm', config={\n",
        "    'epochs': 1,\n",
        "    'batch_size': 16,\n",
        "    # Add other hyperparameters or configurations\n",
        "})"
      ]
    },
    {
      "cell_type": "code",
      "execution_count": null,
      "id": "78b9baaf",
      "metadata": {
        "id": "78b9baaf",
        "outputId": "bf7de1ad-dd18-46fb-885e-ace56f831839"
      },
      "outputs": [
        {
          "name": "stdout",
          "output_type": "stream",
          "text": [
            "Requirement already satisfied: tldextract in /Users/student/anaconda3/lib/python3.10/site-packages (3.2.0)\r\n",
            "Requirement already satisfied: filelock>=3.0.8 in /Users/student/anaconda3/lib/python3.10/site-packages (from tldextract) (3.9.0)\r\n",
            "Requirement already satisfied: idna in /Users/student/anaconda3/lib/python3.10/site-packages (from tldextract) (3.4)\r\n",
            "Requirement already satisfied: requests-file>=1.4 in /Users/student/anaconda3/lib/python3.10/site-packages (from tldextract) (1.5.1)\r\n",
            "Requirement already satisfied: requests>=2.1.0 in /Users/student/anaconda3/lib/python3.10/site-packages (from tldextract) (2.28.1)\r\n",
            "Requirement already satisfied: urllib3<1.27,>=1.21.1 in /Users/student/anaconda3/lib/python3.10/site-packages (from requests>=2.1.0->tldextract) (1.26.14)\r\n",
            "Requirement already satisfied: certifi>=2017.4.17 in /Users/student/anaconda3/lib/python3.10/site-packages (from requests>=2.1.0->tldextract) (2022.12.7)\r\n",
            "Requirement already satisfied: charset-normalizer<3,>=2 in /Users/student/anaconda3/lib/python3.10/site-packages (from requests>=2.1.0->tldextract) (2.0.4)\r\n",
            "Requirement already satisfied: six in /Users/student/anaconda3/lib/python3.10/site-packages (from requests-file>=1.4->tldextract) (1.16.0)\r\n"
          ]
        }
      ],
      "source": [
        "!pip install tldextract"
      ]
    },
    {
      "cell_type": "code",
      "execution_count": null,
      "id": "ae3a78a2",
      "metadata": {
        "id": "ae3a78a2"
      },
      "outputs": [],
      "source": [
        "from keras.preprocessing.sequence import pad_sequences\n",
        "from keras.models import Sequential, load_model\n",
        "from keras.layers import Dense, Dropout, Activation\n",
        "from keras.layers import Embedding\n",
        "from keras.layers import LSTM\n",
        "\n",
        "\n",
        "from pandas import read_csv, concat\n",
        "from sklearn.model_selection import train_test_split\n",
        "from sklearn.metrics import confusion_matrix, roc_auc_score\n",
        "import tldextract\n",
        "import numpy as np\n",
        "import pandas as pd"
      ]
    },
    {
      "cell_type": "code",
      "execution_count": null,
      "id": "c0613be5",
      "metadata": {
        "id": "c0613be5"
      },
      "outputs": [],
      "source": [
        "legitDomains = pd.read_csv('/Users/student/Downloads/good_2mil_new.csv')\n",
        "dgaDomains = pd.read_csv('/Users/student/Downloads/full_dga2mil_new.csv' )"
      ]
    },
    {
      "cell_type": "code",
      "execution_count": null,
      "id": "d625db20",
      "metadata": {
        "id": "d625db20"
      },
      "outputs": [],
      "source": [
        "legitDomains['tld'] = [tldextract.extract(d).domain for d in legitDomains['domain']]\n",
        "dgaDomains['tld'] = [tldextract.extract(d).domain for d in dgaDomains ['domain']]\n",
        "\n",
        "legitDomains = legitDomains[-legitDomains['tld'].str.contains('\\`|\\.')]\n",
        "dgaDomains = dgaDomains[-dgaDomains['tld'].str.contains('\\`|\\.')]"
      ]
    },
    {
      "cell_type": "code",
      "execution_count": null,
      "id": "fc707a2d",
      "metadata": {
        "id": "fc707a2d"
      },
      "outputs": [],
      "source": [
        "allDomains = concat([legitDomains, dgaDomains], ignore_index=True)\n",
        "allDomains = allDomains.sample(frac=1).reset_index(drop=True)\n",
        "\n",
        "X, y = allDomains['tld'], allDomains['label']"
      ]
    },
    {
      "cell_type": "code",
      "execution_count": null,
      "id": "1055996a",
      "metadata": {
        "id": "1055996a",
        "outputId": "a8111847-cb32-4675-d9a6-213ef6c6fea4"
      },
      "outputs": [
        {
          "data": {
            "text/html": [
              "<div>\n",
              "<style scoped>\n",
              "    .dataframe tbody tr th:only-of-type {\n",
              "        vertical-align: middle;\n",
              "    }\n",
              "\n",
              "    .dataframe tbody tr th {\n",
              "        vertical-align: top;\n",
              "    }\n",
              "\n",
              "    .dataframe thead th {\n",
              "        text-align: right;\n",
              "    }\n",
              "</style>\n",
              "<table border=\"1\" class=\"dataframe\">\n",
              "  <thead>\n",
              "    <tr style=\"text-align: right;\">\n",
              "      <th></th>\n",
              "      <th>domain</th>\n",
              "      <th>label</th>\n",
              "      <th>tld</th>\n",
              "      <th>type</th>\n",
              "    </tr>\n",
              "  </thead>\n",
              "  <tbody>\n",
              "    <tr>\n",
              "      <th>0</th>\n",
              "      <td>tra-s4-us.best61.com</td>\n",
              "      <td>0</td>\n",
              "      <td>best61</td>\n",
              "      <td>NaN</td>\n",
              "    </tr>\n",
              "    <tr>\n",
              "      <th>1</th>\n",
              "      <td>avgpqv49qjgt.net</td>\n",
              "      <td>1</td>\n",
              "      <td>avgpqv49qjgt</td>\n",
              "      <td>qadars</td>\n",
              "    </tr>\n",
              "    <tr>\n",
              "      <th>2</th>\n",
              "      <td>gmc.freefiremobile.com</td>\n",
              "      <td>0</td>\n",
              "      <td>freefiremobile</td>\n",
              "      <td>NaN</td>\n",
              "    </tr>\n",
              "    <tr>\n",
              "      <th>3</th>\n",
              "      <td>gbjxwzwjwm.info</td>\n",
              "      <td>1</td>\n",
              "      <td>gbjxwzwjwm</td>\n",
              "      <td>nymaim</td>\n",
              "    </tr>\n",
              "    <tr>\n",
              "      <th>4</th>\n",
              "      <td>yourhome.net</td>\n",
              "      <td>1</td>\n",
              "      <td>yourhome</td>\n",
              "      <td>suppobox</td>\n",
              "    </tr>\n",
              "    <tr>\n",
              "      <th>5</th>\n",
              "      <td>hnbvtkdm.co</td>\n",
              "      <td>1</td>\n",
              "      <td>hnbvtkdm</td>\n",
              "      <td>proslikefan</td>\n",
              "    </tr>\n",
              "    <tr>\n",
              "      <th>6</th>\n",
              "      <td>m44amfj6i8p2eswk6m.biz</td>\n",
              "      <td>1</td>\n",
              "      <td>m44amfj6i8p2eswk6m</td>\n",
              "      <td>rovnix</td>\n",
              "    </tr>\n",
              "    <tr>\n",
              "      <th>7</th>\n",
              "      <td>ajktmjgvwf.tv</td>\n",
              "      <td>1</td>\n",
              "      <td>ajktmjgvwf</td>\n",
              "      <td>pushdotid</td>\n",
              "    </tr>\n",
              "    <tr>\n",
              "      <th>8</th>\n",
              "      <td>wdrqvkexnnjnypkls.me</td>\n",
              "      <td>1</td>\n",
              "      <td>wdrqvkexnnjnypkls</td>\n",
              "      <td>ranbyus</td>\n",
              "    </tr>\n",
              "    <tr>\n",
              "      <th>9</th>\n",
              "      <td>sugarfun.com.tw</td>\n",
              "      <td>0</td>\n",
              "      <td>sugarfun</td>\n",
              "      <td>NaN</td>\n",
              "    </tr>\n",
              "    <tr>\n",
              "      <th>10</th>\n",
              "      <td>qeqfnpsroniuodql.net</td>\n",
              "      <td>1</td>\n",
              "      <td>qeqfnpsroniuodql</td>\n",
              "      <td>murofet</td>\n",
              "    </tr>\n",
              "    <tr>\n",
              "      <th>11</th>\n",
              "      <td>aiq-in.ogio.com</td>\n",
              "      <td>0</td>\n",
              "      <td>ogio</td>\n",
              "      <td>NaN</td>\n",
              "    </tr>\n",
              "    <tr>\n",
              "      <th>12</th>\n",
              "      <td>ekz.ch</td>\n",
              "      <td>0</td>\n",
              "      <td>ekz</td>\n",
              "      <td>NaN</td>\n",
              "    </tr>\n",
              "    <tr>\n",
              "      <th>13</th>\n",
              "      <td>machinecentury.net</td>\n",
              "      <td>1</td>\n",
              "      <td>machinecentury</td>\n",
              "      <td>suppobox</td>\n",
              "    </tr>\n",
              "    <tr>\n",
              "      <th>14</th>\n",
              "      <td>realxxxteens.com</td>\n",
              "      <td>0</td>\n",
              "      <td>realxxxteens</td>\n",
              "      <td>NaN</td>\n",
              "    </tr>\n",
              "    <tr>\n",
              "      <th>15</th>\n",
              "      <td>nxapyw.com</td>\n",
              "      <td>1</td>\n",
              "      <td>nxapyw</td>\n",
              "      <td>virut</td>\n",
              "    </tr>\n",
              "    <tr>\n",
              "      <th>16</th>\n",
              "      <td>login.achieve3000.com</td>\n",
              "      <td>0</td>\n",
              "      <td>achieve3000</td>\n",
              "      <td>NaN</td>\n",
              "    </tr>\n",
              "    <tr>\n",
              "      <th>17</th>\n",
              "      <td>partnercertificates.cloudinary.com</td>\n",
              "      <td>0</td>\n",
              "      <td>cloudinary</td>\n",
              "      <td>NaN</td>\n",
              "    </tr>\n",
              "    <tr>\n",
              "      <th>18</th>\n",
              "      <td>ilkebebe.com</td>\n",
              "      <td>0</td>\n",
              "      <td>ilkebebe</td>\n",
              "      <td>NaN</td>\n",
              "    </tr>\n",
              "    <tr>\n",
              "      <th>19</th>\n",
              "      <td>uzymnpcurgoykuxx.biz</td>\n",
              "      <td>1</td>\n",
              "      <td>uzymnpcurgoykuxx</td>\n",
              "      <td>murofet</td>\n",
              "    </tr>\n",
              "  </tbody>\n",
              "</table>\n",
              "</div>"
            ],
            "text/plain": [
              "                                domain  label                 tld         type\n",
              "0                 tra-s4-us.best61.com      0              best61          NaN\n",
              "1                     avgpqv49qjgt.net      1        avgpqv49qjgt       qadars\n",
              "2               gmc.freefiremobile.com      0      freefiremobile          NaN\n",
              "3                      gbjxwzwjwm.info      1          gbjxwzwjwm       nymaim\n",
              "4                         yourhome.net      1            yourhome     suppobox\n",
              "5                          hnbvtkdm.co      1            hnbvtkdm  proslikefan\n",
              "6               m44amfj6i8p2eswk6m.biz      1  m44amfj6i8p2eswk6m       rovnix\n",
              "7                        ajktmjgvwf.tv      1          ajktmjgvwf    pushdotid\n",
              "8                 wdrqvkexnnjnypkls.me      1   wdrqvkexnnjnypkls      ranbyus\n",
              "9                      sugarfun.com.tw      0            sugarfun          NaN\n",
              "10                qeqfnpsroniuodql.net      1    qeqfnpsroniuodql      murofet\n",
              "11                     aiq-in.ogio.com      0                ogio          NaN\n",
              "12                              ekz.ch      0                 ekz          NaN\n",
              "13                  machinecentury.net      1      machinecentury     suppobox\n",
              "14                    realxxxteens.com      0        realxxxteens          NaN\n",
              "15                          nxapyw.com      1              nxapyw        virut\n",
              "16               login.achieve3000.com      0         achieve3000          NaN\n",
              "17  partnercertificates.cloudinary.com      0          cloudinary          NaN\n",
              "18                        ilkebebe.com      0            ilkebebe          NaN\n",
              "19                uzymnpcurgoykuxx.biz      1    uzymnpcurgoykuxx      murofet"
            ]
          },
          "execution_count": 9,
          "metadata": {},
          "output_type": "execute_result"
        }
      ],
      "source": [
        "allDomains.head(20)"
      ]
    },
    {
      "cell_type": "code",
      "execution_count": null,
      "id": "52733fa3",
      "metadata": {
        "id": "52733fa3"
      },
      "outputs": [],
      "source": [
        "validChars = {x: idx + 1 for idx, x in enumerate(set(''.join(X))) }\n",
        "\n",
        "maxFeatures = len(validChars) + 1\n",
        "maxlen = np.max([len(x) for x in X])"
      ]
    },
    {
      "cell_type": "code",
      "execution_count": null,
      "id": "70031ba6",
      "metadata": {
        "id": "70031ba6",
        "outputId": "546de1c6-144b-4b89-da52-6d0893800f9d"
      },
      "outputs": [
        {
          "data": {
            "text/plain": [
              "{'A': 1,\n",
              " 'o': 2,\n",
              " 'e': 3,\n",
              " 'a': 4,\n",
              " '2': 5,\n",
              " 'p': 6,\n",
              " 'l': 7,\n",
              " 'c': 8,\n",
              " 'I': 9,\n",
              " 'q': 10,\n",
              " '7': 11,\n",
              " '-': 12,\n",
              " 'Y': 13,\n",
              " 'S': 14,\n",
              " 'x': 15,\n",
              " 'h': 16,\n",
              " 'X': 17,\n",
              " 'V': 18,\n",
              " 'r': 19,\n",
              " '6': 20,\n",
              " 'g': 21,\n",
              " 'i': 22,\n",
              " 's': 23,\n",
              " 'Z': 24,\n",
              " 'R': 25,\n",
              " 'd': 26,\n",
              " 'u': 27,\n",
              " 'Q': 28,\n",
              " '4': 29,\n",
              " 't': 30,\n",
              " 'D': 31,\n",
              " 'b': 32,\n",
              " 'H': 33,\n",
              " 'P': 34,\n",
              " 'j': 35,\n",
              " 'n': 36,\n",
              " 'y': 37,\n",
              " 'T': 38,\n",
              " '5': 39,\n",
              " 'B': 40,\n",
              " '1': 41,\n",
              " '_': 42,\n",
              " '8': 43,\n",
              " 'm': 44,\n",
              " '9': 45,\n",
              " 'k': 46,\n",
              " 'F': 47,\n",
              " 'E': 48,\n",
              " 'C': 49,\n",
              " 'U': 50,\n",
              " 'f': 51,\n",
              " '0': 52,\n",
              " 'w': 53,\n",
              " 'v': 54,\n",
              " 'z': 55,\n",
              " '3': 56,\n",
              " 'G': 57,\n",
              " 'W': 58}"
            ]
          },
          "execution_count": 11,
          "metadata": {},
          "output_type": "execute_result"
        }
      ],
      "source": [
        "validChars"
      ]
    },
    {
      "cell_type": "code",
      "execution_count": null,
      "id": "2efc0def",
      "metadata": {
        "id": "2efc0def"
      },
      "outputs": [],
      "source": [
        "X = [[validChars[y] for y in x] for x in X]\n",
        "X = pad_sequences(X, maxlen=maxlen)"
      ]
    },
    {
      "cell_type": "code",
      "execution_count": null,
      "id": "8ec9bd78",
      "metadata": {
        "id": "8ec9bd78"
      },
      "outputs": [],
      "source": [
        "X_train, X_test, y_train, y_test = train_test_split(X, y, test_size=0.2)"
      ]
    },
    {
      "cell_type": "code",
      "execution_count": null,
      "id": "96d21b33",
      "metadata": {
        "id": "96d21b33"
      },
      "outputs": [],
      "source": [
        "model = Sequential()\n",
        "model.add(Embedding(maxFeatures, 128))\n",
        "model.add(LSTM(128))\n",
        "model.add(Dropout(0.5))\n",
        "model.add(Dense(1))\n",
        "model.add(Activation('sigmoid'))\n",
        "model.compile(loss='binary_crossentropy', optimizer='rmsprop')"
      ]
    },
    {
      "cell_type": "code",
      "execution_count": null,
      "id": "a38a2d2c",
      "metadata": {
        "id": "a38a2d2c",
        "outputId": "e8cc948f-d282-4705-ec2b-9eef3672be40"
      },
      "outputs": [
        {
          "name": "stderr",
          "output_type": "stream",
          "text": [
            "\u001b[34m\u001b[1mwandb\u001b[0m: \u001b[33mWARNING\u001b[0m The save_model argument by default saves the model in the HDF5 format that cannot save custom objects like subclassed models and custom layers. This behavior will be deprecated in a future release in favor of the SavedModel format. Meanwhile, the HDF5 model is saved as W&B files and the SavedModel as W&B Artifacts.\n"
          ]
        },
        {
          "name": "stdout",
          "output_type": "stream",
          "text": [
            "212024/212026 [============================>.] - ETA: 0s - loss: 0.1844"
          ]
        },
        {
          "name": "stderr",
          "output_type": "stream",
          "text": [
            "/Users/student/anaconda3/lib/python3.10/site-packages/keras/src/engine/training.py:3103: UserWarning: You are saving your model as an HDF5 file via `model.save()`. This file format is considered legacy. We recommend using instead the native Keras format, e.g. `model.save('my_model.keras')`.\n",
            "  saving_api.save_model(\n"
          ]
        },
        {
          "name": "stdout",
          "output_type": "stream",
          "text": [
            "INFO:tensorflow:Assets written to: /Users/student/Documents/wandb/run-20231214_143002-bqn3z2ie/files/model-best/assets\n"
          ]
        },
        {
          "name": "stderr",
          "output_type": "stream",
          "text": [
            "INFO:tensorflow:Assets written to: /Users/student/Documents/wandb/run-20231214_143002-bqn3z2ie/files/model-best/assets\n",
            "\u001b[34m\u001b[1mwandb\u001b[0m: Adding directory to artifact (/Users/student/Documents/wandb/run-20231214_143002-bqn3z2ie/files/model-best)... Done. 0.0s\n"
          ]
        },
        {
          "name": "stdout",
          "output_type": "stream",
          "text": [
            "212026/212026 [==============================] - 6021s 28ms/step - loss: 0.1844 - val_loss: 0.1743\n"
          ]
        },
        {
          "data": {
            "text/plain": [
              "<keras.src.callbacks.History at 0x31bce13f0>"
            ]
          },
          "execution_count": 15,
          "metadata": {},
          "output_type": "execute_result"
        }
      ],
      "source": [
        "model.fit(X_train, y_train, epochs=wandb.config.epochs, batch_size=wandb.config.batch_size,\n",
        "          validation_data=(X_test, y_test), callbacks=[WandbCallback()])"
      ]
    },
    {
      "cell_type": "code",
      "execution_count": null,
      "id": "6ec6b1ba",
      "metadata": {
        "id": "6ec6b1ba",
        "outputId": "9e201474-a448-4271-89d6-073ef56080d4"
      },
      "outputs": [
        {
          "name": "stdout",
          "output_type": "stream",
          "text": [
            "1/1 [==============================] - 0s 12ms/step\n"
          ]
        },
        {
          "data": {
            "text/plain": [
              "array([[0.03270486]], dtype=float32)"
            ]
          },
          "execution_count": 21,
          "metadata": {},
          "output_type": "execute_result"
        }
      ],
      "source": [
        "domain = [[validChars[ch] for ch in tldextract.extract('wikipedia.com').domain]]\n",
        "domain = pad_sequences(domain, maxlen=maxlen)\n",
        "\n",
        "model.predict(domain)"
      ]
    },
    {
      "cell_type": "code",
      "execution_count": null,
      "id": "d304db50",
      "metadata": {
        "id": "d304db50",
        "outputId": "4b8f7223-204b-4d53-ec66-088e86182b2c"
      },
      "outputs": [
        {
          "name": "stdout",
          "output_type": "stream",
          "text": [
            "26504/26504 [==============================] - 262s 10ms/step\n"
          ]
        }
      ],
      "source": [
        "probs = model.predict(X_test)"
      ]
    },
    {
      "cell_type": "code",
      "execution_count": null,
      "id": "22bd0499",
      "metadata": {
        "id": "22bd0499",
        "outputId": "f2d341a3-e348-4973-8948-d269491c1da3"
      },
      "outputs": [
        {
          "name": "stdout",
          "output_type": "stream",
          "text": [
            "TP: 392136\n",
            "TN: 402555\n",
            "FP: 21639\n",
            "FN: 31771\n",
            "\n",
            "FP rate: 5.101%\n",
            "FN rate: 1346794929700.000% \n",
            "\n",
            "Sensitivity: 0.925%\n",
            "Specificity: 0.924% \n",
            "Accuracy: 0.937%\n",
            "\n",
            "AUC: 0.982%\n"
          ]
        }
      ],
      "source": [
        "tn, fp, fn, tp = confusion_matrix(y_test, probs > 0.5).ravel()\n",
        "\n",
        "print('TP: %d\\nTN: %d\\nFP: %d\\nFN: %d\\n' % (tp, tn, fp, fn))\n",
        "print('FP rate: %.3f%%\\nFN rate: %.3f%% \\n' % (fp / (fp + tn) * 100, fn * (fn + tp) * 100))\n",
        "\n",
        "print('Sensitivity: %.3f%%\\nSpecificity: %.3f%% \\nAccuracy: %.3f%%\\n' % (\n",
        "\n",
        "     tp / (tp + fn),\n",
        "     tp /  (tn + fp),\n",
        "     (tp + tn) / (tp + tn + fp + fn)\n",
        "))\n",
        "print('AUC: %.3f%%' % roc_auc_score(y_test, probs))"
      ]
    },
    {
      "cell_type": "code",
      "execution_count": null,
      "id": "d93f5458",
      "metadata": {
        "id": "d93f5458",
        "outputId": "cde391a5-8ea2-4e81-a73e-aa87eb363ba1"
      },
      "outputs": [
        {
          "name": "stdout",
          "output_type": "stream",
          "text": [
            "26504/26504 [==============================] - 259s 10ms/step - loss: 0.1743\n",
            "Test Loss: 0.17429892718791962\n"
          ]
        }
      ],
      "source": [
        "test_loss = model.evaluate(X_test, y_test)\n",
        "\n",
        "# Print the test loss\n",
        "print(\"Test Loss:\", test_loss)"
      ]
    },
    {
      "cell_type": "code",
      "execution_count": null,
      "id": "cf75a593",
      "metadata": {
        "id": "cf75a593",
        "outputId": "48296c5e-6169-46b7-db44-35e109505d58"
      },
      "outputs": [
        {
          "name": "stdout",
          "output_type": "stream",
          "text": [
            "26504/26504 [==============================] - 259s 10ms/step\n"
          ]
        },
        {
          "data": {
            "image/png": "[encoded data removed]",
            "text/plain": [
              "<Figure size 600x600 with 2 Axes>"
            ]
          },
          "metadata": {},
          "output_type": "display_data"
        },
        {
          "name": "stdout",
          "output_type": "stream",
          "text": [
            "Classification Report:\n",
            "              precision    recall  f1-score   support\n",
            "\n",
            "           0       0.93      0.95      0.94    424194\n",
            "           1       0.95      0.93      0.94    423907\n",
            "\n",
            "    accuracy                           0.94    848101\n",
            "   macro avg       0.94      0.94      0.94    848101\n",
            "weighted avg       0.94      0.94      0.94    848101\n",
            "\n"
          ]
        },
        {
          "data": {
            "image/png": "[encoded data removed]",
            "text/plain": [
              "<Figure size 800x800 with 1 Axes>"
            ]
          },
          "metadata": {},
          "output_type": "display_data"
        },
        {
          "name": "stdout",
          "output_type": "stream",
          "text": [
            "ROC-AUC Score: 0.9820992916961543\n"
          ]
        },
        {
          "name": "stderr",
          "output_type": "stream",
          "text": [
            "wandb: Network error (SSLError), entering retry loop.\n"
          ]
        }
      ],
      "source": [
        "from sklearn.metrics import confusion_matrix, classification_report, roc_auc_score\n",
        "import matplotlib.pyplot as plt\n",
        "import seaborn as sns\n",
        "from sklearn.metrics import roc_curve, auc\n",
        "\n",
        "# Assuming you have a trained LSTM model named 'model'\n",
        "# and your test set is 'X_test', 'y_test'\n",
        "\n",
        "# Predictions on the test set\n",
        "y_pred = model.predict(X_test)\n",
        "\n",
        "# Convert probabilities to binary predictions\n",
        "y_pred_binary = (y_pred > 0.5).astype(int)\n",
        "\n",
        "# Confusion Matrix\n",
        "cm = confusion_matrix(y_test, y_pred_binary)\n",
        "plt.figure(figsize=(6, 6))\n",
        "sns.heatmap(cm, annot=True, fmt='d', cmap='Blues', xticklabels=['Predicted 0', 'Predicted 1'], yticklabels=['Actual 0', 'Actual 1'])\n",
        "plt.xlabel('Predicted Label')\n",
        "plt.ylabel('True Label')\n",
        "plt.title('Confusion Matrix')\n",
        "plt.show()\n",
        "\n",
        "# Classification Report\n",
        "print(\"Classification Report:\")\n",
        "print(classification_report(y_test, y_pred_binary))\n",
        "\n",
        "# ROC Curve and AUC Score\n",
        "fpr, tpr, thresholds = roc_curve(y_test, y_pred)\n",
        "roc_auc = auc(fpr, tpr)\n",
        "\n",
        "plt.figure(figsize=(8, 8))\n",
        "plt.plot(fpr, tpr, color='darkorange', lw=2, label='ROC curve (AUC = {:.2f})'.format(roc_auc))\n",
        "plt.plot([0, 1], [0, 1], color='navy', lw=2, linestyle='--')\n",
        "plt.xlabel('False Positive Rate')\n",
        "plt.ylabel('True Positive Rate')\n",
        "plt.title('Receiver Operating Characteristic (ROC) Curve')\n",
        "plt.legend(loc=\"lower right\")\n",
        "plt.show()\n",
        "\n",
        "# ROC-AUC Score\n",
        "print(\"ROC-AUC Score:\", roc_auc_score(y_test, y_pred))"
      ]
    }
  ],
  "metadata": {
    "kernelspec": {
      "display_name": "Python 3 (ipykernel)",
      "language": "python",
      "name": "python3"
    },
    "language_info": {
      "codemirror_mode": {
        "name": "ipython",
        "version": 3
      },
      "file_extension": ".py",
      "mimetype": "text/x-python",
      "name": "python",
      "nbconvert_exporter": "python",
      "pygments_lexer": "ipython3",
      "version": "3.10.9"
    },
    "colab": {
      "provenance": []
    }
  },
  "nbformat": 4,
  "nbformat_minor": 5
}